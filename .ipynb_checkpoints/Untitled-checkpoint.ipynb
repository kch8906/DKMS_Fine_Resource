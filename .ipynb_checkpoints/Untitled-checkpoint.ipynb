{
 "cells": [
  {
   "cell_type": "code",
   "execution_count": 1,
   "id": "b025a81b",
   "metadata": {},
   "outputs": [],
   "source": [
    "import subprocess\n",
    "import json\n",
    "from multiprocessing import Pool\n",
    "import itertools\n",
    "from datetime import datetime\n",
    "import pandas as pd\n"
   ]
  },
  {
   "cell_type": "code",
   "execution_count": 2,
   "id": "c0f46da8",
   "metadata": {},
   "outputs": [],
   "source": [
    "def find_resource(resource) -> str:    \n",
    "#     for item in tqdm(resource):\n",
    "    proc = subprocess.Popen(\n",
    "        ['aws', 'configservice', 'list-discovered-resources', '--resource-type', f'{resource}'],\n",
    "    stdout = subprocess.PIPE\n",
    "    )\n",
    "    out, err = proc.communicate()\n",
    "    \n",
    "    if 'resourceType' in str(out):\n",
    "        out = out.decode('utf-8')\n",
    "        out = json.loads(out)\n",
    "        resourceID = [out['resourceIdentifiers'][idx]['resourceId'] for idx in range(len(out['resourceIdentifiers']))]\n",
    "        return [resource, resourceID]\n",
    "    else:\n",
    "        return 0"
   ]
  },
  {
   "cell_type": "code",
   "execution_count": 3,
   "id": "645d098c",
   "metadata": {},
   "outputs": [],
   "source": [
    "def multiprocessing(resource_lists) -> list:\n",
    "    pool = Pool(processes=12)\n",
    "    resource = pool.map(find_resource, resource_lists)\n",
    "    exist_resources.append(resource)\n",
    "    print(resource)\n",
    "    pool.close()\n",
    "    pool.join()"
   ]
  },
  {
   "cell_type": "code",
   "execution_count": 4,
   "id": "83b89af0",
   "metadata": {},
   "outputs": [],
   "source": [
    "def preprocessing_resource(exist_resources) -> list:\n",
    "    exist_resources = list(itertools.chain(*exist_resources))\n",
    "    exist_resources = [item for item in exist_resources if item != 0]\n",
    "    exist_resources = dict(zip(range(1, len(exist_resources) + 1), exist_resources))\n",
    "    result = json.dumps(exist_resources)\n",
    "    \n",
    "    return result"
   ]
  },
  {
   "cell_type": "code",
   "execution_count": 5,
   "id": "2714d17e",
   "metadata": {},
   "outputs": [],
   "source": [
    "def convert_dataframe(resource_json) -> dict:\n",
    "    df_resource = pd.DataFrame.from_dict(resource_json, orient='index', columns=['Resource_Type','ResourceID'])\n",
    "    df_resource['date']=pd.datetime.now().date()\n",
    "    df_resource.explode('ResourceID')\n",
    "    \n",
    "    return df_resource"
   ]
  },
  {
   "cell_type": "code",
   "execution_count": 13,
   "id": "94e5acee",
   "metadata": {},
   "outputs": [
    {
     "name": "stdout",
     "output_type": "stream",
     "text": [
      "[0, 0, 0, ['AWS::EC2::Instance', ['i-0303414e8cd5865c0', 'i-066189a9744d6ec3a', 'i-089772e9e1906ad02']], ['AWS::EC2::InternetGateway', ['igw-082d2f709fb46e0c1']], ['AWS::EC2::NetworkAcl', ['acl-09d6463116ca6874d']], ['AWS::EC2::NetworkInterface', ['eni-011b59f865f162856', 'eni-020dc0690f3e6a20e', 'eni-061cabcf0e433f314']], ['AWS::EC2::RouteTable', ['rtb-0bf37f5bb938ce786']], ['AWS::EC2::SecurityGroup', ['sg-0056aa002fd81c496', 'sg-014d3be3fb7e16872', 'sg-087fe725d638099cf', 'sg-0b8f402642ccea7fb']], ['AWS::EC2::Subnet', ['subnet-00411fd2c8840890e', 'subnet-08cffe1b0ae1f9b88', 'subnet-0f3206884d9698f40']], 0, ['AWS::EC2::Volume', ['vol-036f5e09497c71819', 'vol-0a6914dd0377cb8de', 'vol-0cb8e382bb271a77e']], ['AWS::EC2::VPC', ['vpc-03e53262faff38c42']], 0, 0, 0, 0, 0, 0, 0, 0, 0, 0, 0, 0, 0, 0, 0, 0, 0, 0, 0, 0, 0, ['AWS::S3::Bucket', ['config-bucket-561123858318', 'mybucket-123421']], 0, 0, 0, 0, 0, 0, 0, 0, 0, 0, 0, 0]\n"
     ]
    }
   ],
   "source": [
    "if __name__ == '__main__':    \n",
    "    resources = \"AWS::EC2::CustomerGateway | AWS::EC2::EIP | AWS::EC2::Host | AWS::EC2::Instance | AWS::EC2::InternetGateway | AWS::EC2::NetworkAcl | AWS::EC2::NetworkInterface | AWS::EC2::RouteTable | AWS::EC2::SecurityGroup | AWS::EC2::Subnet | AWS::CloudTrail::Trail | AWS::EC2::Volume | AWS::EC2::VPC | AWS::EC2::VPNConnection | AWS::EC2::VPNGateway | AWS::EC2::RegisteredHAInstance | AWS::EC2::NatGateway | AWS::EC2::EgressOnlyInternetGateway | AWS::EC2::VPCEndpoint | AWS::EC2::VPCEndpointService | AWS::EC2::VPCPeeringConnection | AWS::IAM::Group | AWS::IAM::Policy | AWS::IAM::Role | AWS::IAM::User |  AWS::ElasticLoadBalancingV2::LoadBalancer | AWS::ACM::Certificate | AWS::RDS::DBInstance | AWS::RDS::DBSubnetGroup | AWS::RDS::DBSecurityGroup | AWS::RDS::DBSnapshot | AWS::RDS::DBCluster | AWS::RDS::DBClusterSnapshot | AWS::RDS::EventSubscription | AWS::S3::Bucket | AWS::S3::AccountPublicAccessBlock | AWS::ElasticLoadBalancing::LoadBalancer | AWS::AutoScaling::ScalingPolicy | AWS::AutoScaling::ScheduledAction | AWS::DynamoDB::Table | AWS::Lambda::Function | AWS::NetworkFirewall::Firewall | AWS::NetworkFirewall::FirewallPolicy | AWS::NetworkFirewall::RuleGroup | AWS::ECR::Repository | AWS::EKS::Cluster | AWS::Route53::HostedZone\"\n",
    "    resource_lists = resources.split(\" | \")\n",
    "    exist_resources = [] \n",
    "    multiprocessing(resource_lists)\n",
    "#     resource_json = preprocessing_resource(exist_resources)\n",
    "#     df_resource = convert_dataframe(resource_json)\n",
    "#     date = datetime.today().strftime(\"%Y%m%d\")\n",
    "#     df_resource.to_excel(f'{date}' + \"_resource_list.xlsx\")   "
   ]
  },
  {
   "cell_type": "code",
   "execution_count": 14,
   "id": "9646c9a4",
   "metadata": {},
   "outputs": [
    {
     "data": {
      "text/plain": [
       "[]"
      ]
     },
     "execution_count": 14,
     "metadata": {},
     "output_type": "execute_result"
    }
   ],
   "source": [
    "exist_resources"
   ]
  },
  {
   "cell_type": "code",
   "execution_count": null,
   "id": "55f82a6f",
   "metadata": {},
   "outputs": [],
   "source": []
  }
 ],
 "metadata": {
  "kernelspec": {
   "display_name": "Python 3 (ipykernel)",
   "language": "python",
   "name": "python3"
  },
  "language_info": {
   "codemirror_mode": {
    "name": "ipython",
    "version": 3
   },
   "file_extension": ".py",
   "mimetype": "text/x-python",
   "name": "python",
   "nbconvert_exporter": "python",
   "pygments_lexer": "ipython3",
   "version": "3.10.6"
  }
 },
 "nbformat": 4,
 "nbformat_minor": 5
}
