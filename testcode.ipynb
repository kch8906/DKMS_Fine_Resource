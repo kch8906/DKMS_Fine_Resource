{
 "cells": [
  {
   "cell_type": "code",
   "execution_count": 119,
   "id": "4bd35cac",
   "metadata": {},
   "outputs": [],
   "source": [
    "import subprocess\n",
    "import json\n",
    "from tqdm import tqdm\n",
    "from multiprocessing import Pool\n",
    "import itertools"
   ]
  },
  {
   "cell_type": "code",
   "execution_count": 3,
   "id": "93cfc38a",
   "metadata": {},
   "outputs": [],
   "source": [
    "resources = \"AWS::EC2::CustomerGateway | AWS::EC2::EIP | AWS::EC2::Host | AWS::EC2::Instance | AWS::EC2::InternetGateway | AWS::EC2::NetworkAcl | AWS::EC2::NetworkInterface | AWS::EC2::RouteTable | AWS::EC2::SecurityGroup | AWS::EC2::Subnet | AWS::CloudTrail::Trail | AWS::EC2::Volume | AWS::EC2::VPC | AWS::EC2::VPNConnection | AWS::EC2::VPNGateway | AWS::EC2::RegisteredHAInstance | AWS::EC2::NatGateway | AWS::EC2::EgressOnlyInternetGateway | AWS::EC2::VPCEndpoint | AWS::EC2::VPCEndpointService | AWS::EC2::FlowLog | AWS::EC2::VPCPeeringConnection | AWS::Elasticsearch::Domain | AWS::IAM::Group | AWS::IAM::Policy | AWS::IAM::Role | AWS::IAM::User | AWS::ElasticLoadBalancingV2::LoadBalancer | AWS::ACM::Certificate | AWS::RDS::DBInstance | AWS::RDS::DBSubnetGroup | AWS::RDS::DBSecurityGroup | AWS::RDS::DBSnapshot | AWS::RDS::DBCluster | AWS::RDS::DBClusterSnapshot | AWS::RDS::EventSubscription | AWS::S3::Bucket | AWS::S3::AccountPublicAccessBlock | AWS::Redshift::Cluster | AWS::Redshift::ClusterSnapshot | AWS::Redshift::ClusterParameterGroup | AWS::Redshift::ClusterSecurityGroup | AWS::Redshift::ClusterSubnetGroup | AWS::Redshift::EventSubscription | AWS::SSM::ManagedInstanceInventory | AWS::CloudWatch::Alarm | AWS::CloudFormation::Stack | AWS::ElasticLoadBalancing::LoadBalancer | AWS::AutoScaling::AutoScalingGroup | AWS::AutoScaling::LaunchConfiguration | AWS::AutoScaling::ScalingPolicy | AWS::AutoScaling::ScheduledAction | AWS::DynamoDB::Table | AWS::CodeBuild::Project | AWS::WAF::RateBasedRule | AWS::WAF::Rule | AWS::WAF::RuleGroup | AWS::WAF::WebACL | AWS::WAFRegional::RateBasedRule | AWS::WAFRegional::Rule | AWS::WAFRegional::RuleGroup | AWS::WAFRegional::WebACL | AWS::CloudFront::Distribution | AWS::CloudFront::StreamingDistribution | AWS::Lambda::Function | AWS::NetworkFirewall::Firewall | AWS::NetworkFirewall::FirewallPolicy | AWS::NetworkFirewall::RuleGroup | AWS::ElasticBeanstalk::Application | AWS::ElasticBeanstalk::ApplicationVersion | AWS::ElasticBeanstalk::Environment | AWS::WAFv2::WebACL | AWS::WAFv2::RuleGroup | AWS::WAFv2::IPSet | AWS::WAFv2::RegexPatternSet | AWS::WAFv2::ManagedRuleSet | AWS::XRay::EncryptionConfig | AWS::SSM::AssociationCompliance | AWS::SSM::PatchCompliance | AWS::Shield::Protection | AWS::ShieldRegional::Protection | AWS::Config::ConformancePackCompliance | AWS::Config::ResourceCompliance | AWS::ApiGateway::Stage | AWS::ApiGateway::RestApi | AWS::ApiGatewayV2::Stage | AWS::ApiGatewayV2::Api | AWS::CodePipeline::Pipeline | AWS::ServiceCatalog::CloudFormationProvisionedProduct | AWS::ServiceCatalog::CloudFormationProduct | AWS::ServiceCatalog::Portfolio | AWS::SQS::Queue | AWS::KMS::Key | AWS::QLDB::Ledger | AWS::SecretsManager::Secret | AWS::SNS::Topic | AWS::SSM::FileData | AWS::Backup::BackupPlan | AWS::Backup::BackupSelection | AWS::Backup::BackupVault | AWS::Backup::RecoveryPoint | AWS::ECR::Repository | AWS::ECS::Cluster | AWS::ECS::Service | AWS::ECS::TaskDefinition | AWS::EFS::AccessPoint | AWS::EFS::FileSystem | AWS::EKS::Cluster | AWS::OpenSearch::Domain | AWS::EC2::TransitGateway | AWS::Kinesis::Stream | AWS::Kinesis::StreamConsumer | AWS::CodeDeploy::Application | AWS::CodeDeploy::DeploymentConfig | AWS::CodeDeploy::DeploymentGroup | AWS::EC2::LaunchTemplate | AWS::ECR::PublicRepository | AWS::GuardDuty::Detector | AWS::EMR::SecurityConfiguration | AWS::SageMaker::CodeRepository | AWS::Route53Resolver::ResolverEndpoint | AWS::Route53Resolver::ResolverRule | AWS::Route53Resolver::ResolverRuleAssociation | AWS::DMS::ReplicationSubnetGroup | AWS::DMS::EventSubscription | AWS::MSK::Cluster | AWS::StepFunctions::Activity | AWS::WorkSpaces::Workspace | AWS::WorkSpaces::ConnectionAlias | AWS::SageMaker::Model | AWS::ElasticLoadBalancingV2::Listener | AWS::StepFunctions::StateMachine | AWS::Batch::JobQueue | AWS::Batch::ComputeEnvironment | AWS::AccessAnalyzer::Analyzer | AWS::Athena::WorkGroup | AWS::Athena::DataCatalog | AWS::Detective::Graph | AWS::GlobalAccelerator::Accelerator | AWS::GlobalAccelerator::EndpointGroup | AWS::GlobalAccelerator::Listener | AWS::EC2::TransitGatewayAttachment | AWS::EC2::TransitGatewayRouteTable | AWS::DMS::Certificate | AWS::AppConfig::Application | AWS::AppSync::GraphQLApi | AWS::DataSync::LocationSMB | AWS::DataSync::LocationFSxLustre | AWS::DataSync::LocationS3 | AWS::DataSync::LocationEFS | AWS::DataSync::Task | AWS::DataSync::LocationNFS | AWS::EC2::NetworkInsightsAccessScopeAnalysis | AWS::EKS::FargateProfile | AWS::Glue::Job | AWS::GuardDuty::ThreatIntelSet | AWS::GuardDuty::IPSet | AWS::SageMaker::Workteam | AWS::SageMaker::NotebookInstanceLifecycleConfig | AWS::ServiceDiscovery::Service | AWS::ServiceDiscovery::PublicDnsNamespace | AWS::SES::ContactList | AWS::SES::ConfigurationSet | AWS::Route53::HostedZone\"\n",
    "resource_lists = resources.split(\" | \")"
   ]
  },
  {
   "cell_type": "code",
   "execution_count": 26,
   "id": "c799dbff",
   "metadata": {},
   "outputs": [],
   "source": [
    "proc = subprocess.Popen(\n",
    "    ['aws', 'configservice', 'list-discovered-resources', '--resource-type', 'AWS::EC2::VPC'],\n",
    "    stdout = subprocess.PIPE\n",
    "    )\n",
    "out, err = proc.communicate()\n",
    "result = out.decode('utf-8')\n",
    "result = json.loads(result)"
   ]
  },
  {
   "cell_type": "code",
   "execution_count": 27,
   "id": "bf7542a1",
   "metadata": {},
   "outputs": [
    {
     "data": {
      "text/plain": [
       "{'resourceIdentifiers': [{'resourceType': 'AWS::EC2::VPC',\n",
       "   'resourceId': 'vpc-03e53262faff38c42'}]}"
      ]
     },
     "execution_count": 27,
     "metadata": {},
     "output_type": "execute_result"
    }
   ],
   "source": [
    "result"
   ]
  },
  {
   "cell_type": "code",
   "execution_count": 25,
   "id": "b4b0af7d",
   "metadata": {},
   "outputs": [
    {
     "data": {
      "text/plain": [
       "'i-0303414e8cd5865c0'"
      ]
     },
     "execution_count": 25,
     "metadata": {},
     "output_type": "execute_result"
    }
   ],
   "source": [
    "result['resourceIdentifiers'][0]['resourceId']"
   ]
  },
  {
   "cell_type": "markdown",
   "id": "c0c7790d",
   "metadata": {},
   "source": [
    "### 리소스 확인"
   ]
  },
  {
   "cell_type": "code",
   "execution_count": 168,
   "id": "34333e75",
   "metadata": {},
   "outputs": [],
   "source": [
    "exist_resources = []\n",
    "\n",
    "def find_resource(resource) -> str:    \n",
    "#     for item in tqdm(resource):\n",
    "    proc = subprocess.Popen(\n",
    "        ['aws', 'configservice', 'list-discovered-resources', '--resource-type', f'{resource}'],\n",
    "    stdout = subprocess.PIPE\n",
    "    )\n",
    "    out, err = proc.communicate()\n",
    "    \n",
    "    if 'resourceType' in str(out):\n",
    "        out = out.decode('utf-8')\n",
    "        out = json.loads(out)\n",
    "        resourceID = out['resourceIdentifiers'][0]['resourceId']\n",
    "        return [resource, resourceID]\n",
    "    else:\n",
    "        return 0\n"
   ]
  },
  {
   "cell_type": "code",
   "execution_count": 169,
   "id": "e67fe5d4",
   "metadata": {},
   "outputs": [],
   "source": [
    "def multiprocessing(resource_lists) -> list:\n",
    "    pool = Pool(processes=6)\n",
    "    resource = pool.map(find_resource, resource_lists)\n",
    "    exist_resources.append(resource)\n",
    "#     print(resourceID)\n",
    "    pool.close()\n",
    "    pool.join()"
   ]
  },
  {
   "cell_type": "code",
   "execution_count": 170,
   "id": "f0752d57",
   "metadata": {},
   "outputs": [],
   "source": [
    "multiprocessing(resource_lists)"
   ]
  },
  {
   "cell_type": "code",
   "execution_count": 176,
   "id": "04a6c8c4",
   "metadata": {},
   "outputs": [
    {
     "data": {
      "text/plain": [
       "[['AWS::EC2::Instance', 'i-0303414e8cd5865c0'],\n",
       " ['AWS::EC2::InternetGateway', 'igw-082d2f709fb46e0c1'],\n",
       " ['AWS::EC2::NetworkAcl', 'acl-09d6463116ca6874d'],\n",
       " ['AWS::EC2::NetworkInterface', 'eni-020dc0690f3e6a20e'],\n",
       " ['AWS::EC2::RouteTable', 'rtb-0bf37f5bb938ce786'],\n",
       " ['AWS::EC2::SecurityGroup', 'sg-0056aa002fd81c496'],\n",
       " ['AWS::EC2::Subnet', 'subnet-00411fd2c8840890e'],\n",
       " ['AWS::EC2::Volume', 'vol-0a6914dd0377cb8de'],\n",
       " ['AWS::EC2::VPC', 'vpc-03e53262faff38c42'],\n",
       " ['AWS::S3::Bucket', 'config-bucket-561123858318'],\n",
       " ['AWS::CodeDeploy::DeploymentConfig', '00000000-0000-0000-0000-000000000001'],\n",
       " ['AWS::Route53Resolver::ResolverRule',\n",
       "  'rslvr-autodefined-rr-internet-resolver'],\n",
       " ['AWS::Route53Resolver::ResolverRuleAssociation',\n",
       "  'rslvr-autodefined-assoc-vpc-03e53262faff38c42-internet-resolver'],\n",
       " ['AWS::Athena::WorkGroup', 'primary']]"
      ]
     },
     "execution_count": 176,
     "metadata": {},
     "output_type": "execute_result"
    }
   ],
   "source": [
    "exist_resources = list(itertools.chain(*exist_resources))\n",
    "exist_resources = [item for item in exist_resources if item != 0]\n",
    "exist_resources"
   ]
  },
  {
   "cell_type": "markdown",
   "id": "764fcde9",
   "metadata": {},
   "source": [
    "### 세부 정보"
   ]
  },
  {
   "cell_type": "code",
   "execution_count": 178,
   "id": "abfd1487",
   "metadata": {},
   "outputs": [],
   "source": [
    "proc = subprocess.Popen(\n",
    "    ['aws', 'configservice', 'get-resource-config-history', '--resource-type', exist_resources[0][0], '--resource-id', exist_resources[0][1]],\n",
    "    stdout = subprocess.PIPE\n",
    "    )\n",
    "out, err = proc.communicate()"
   ]
  },
  {
   "cell_type": "code",
   "execution_count": 180,
   "id": "602b067d",
   "metadata": {},
   "outputs": [
    {
     "data": {
      "text/plain": [
       "{'configurationItems': [{'version': '1.3',\n",
       "   'accountId': '561123858318',\n",
       "   'configurationItemCaptureTime': 1678192345.934,\n",
       "   'configurationItemStatus': 'ResourceDiscovered',\n",
       "   'configurationStateId': '1678192345934',\n",
       "   'configurationItemMD5Hash': '',\n",
       "   'arn': 'arn:aws:ec2:us-east-2:561123858318:instance/i-0303414e8cd5865c0',\n",
       "   'resourceType': 'AWS::EC2::Instance',\n",
       "   'resourceId': 'i-0303414e8cd5865c0',\n",
       "   'awsRegion': 'us-east-2',\n",
       "   'availabilityZone': 'us-east-2a',\n",
       "   'resourceCreationTime': 1678110999.0,\n",
       "   'tags': {'Name': 'test'},\n",
       "   'relatedEvents': [],\n",
       "   'relationships': [{'resourceType': 'AWS::EC2::Subnet',\n",
       "     'resourceId': 'subnet-08cffe1b0ae1f9b88',\n",
       "     'relationshipName': 'Is contained in Subnet'},\n",
       "    {'resourceType': 'AWS::EC2::Volume',\n",
       "     'resourceId': 'vol-0a6914dd0377cb8de',\n",
       "     'relationshipName': 'Is attached to Volume'},\n",
       "    {'resourceType': 'AWS::EC2::VPC',\n",
       "     'resourceId': 'vpc-03e53262faff38c42',\n",
       "     'relationshipName': 'Is contained in Vpc'},\n",
       "    {'resourceType': 'AWS::EC2::NetworkInterface',\n",
       "     'resourceId': 'eni-020dc0690f3e6a20e',\n",
       "     'relationshipName': 'Contains NetworkInterface'},\n",
       "    {'resourceType': 'AWS::EC2::SecurityGroup',\n",
       "     'resourceId': 'sg-0056aa002fd81c496',\n",
       "     'relationshipName': 'Is associated with SecurityGroup'}],\n",
       "   'configuration': '{\"amiLaunchIndex\":0,\"imageId\":\"ami-0f3c9c466bb525749\",\"instanceId\":\"i-0303414e8cd5865c0\",\"instanceType\":\"t2.micro\",\"kernelId\":null,\"keyName\":null,\"launchTime\":\"2023-03-06T13:56:39.000Z\",\"monitoring\":{\"state\":\"disabled\"},\"placement\":{\"availabilityZone\":\"us-east-2a\",\"affinity\":null,\"groupName\":\"\",\"partitionNumber\":null,\"hostId\":null,\"tenancy\":\"default\",\"spreadDomain\":null,\"hostResourceGroupArn\":null,\"groupId\":null},\"platform\":null,\"privateDnsName\":\"ip-172-31-0-134.us-east-2.compute.internal\",\"privateIpAddress\":\"172.31.0.134\",\"productCodes\":[],\"publicDnsName\":\"ec2-18-222-113-217.us-east-2.compute.amazonaws.com\",\"publicIpAddress\":\"18.222.113.217\",\"ramdiskId\":null,\"state\":{\"code\":16,\"name\":\"running\"},\"stateTransitionReason\":\"\",\"subnetId\":\"subnet-08cffe1b0ae1f9b88\",\"vpcId\":\"vpc-03e53262faff38c42\",\"architecture\":\"x86_64\",\"blockDeviceMappings\":[{\"deviceName\":\"/dev/xvda\",\"ebs\":{\"attachTime\":\"2023-03-06T13:56:39.000Z\",\"deleteOnTermination\":true,\"status\":\"attached\",\"volumeId\":\"vol-0a6914dd0377cb8de\"}}],\"clientToken\":\"b55e5391-6365-4cf2-bfa2-44b35dbcac3d\",\"ebsOptimized\":false,\"enaSupport\":true,\"hypervisor\":\"xen\",\"iamInstanceProfile\":null,\"instanceLifecycle\":null,\"elasticGpuAssociations\":[],\"elasticInferenceAcceleratorAssociations\":[],\"networkInterfaces\":[{\"association\":{\"carrierIp\":null,\"customerOwnedIp\":null,\"ipOwnerId\":\"amazon\",\"publicDnsName\":\"ec2-18-222-113-217.us-east-2.compute.amazonaws.com\",\"publicIp\":\"18.222.113.217\"},\"attachment\":{\"attachTime\":\"2023-03-06T13:56:39.000Z\",\"attachmentId\":\"eni-attach-0f58b2ad5d2d03d25\",\"deleteOnTermination\":true,\"deviceIndex\":0,\"status\":\"attached\",\"networkCardIndex\":0},\"description\":\"\",\"groups\":[{\"groupName\":\"launch-wizard-1\",\"groupId\":\"sg-0056aa002fd81c496\"}],\"ipv6Addresses\":[],\"macAddress\":\"02:68:a8:cf:01:c6\",\"networkInterfaceId\":\"eni-020dc0690f3e6a20e\",\"ownerId\":\"561123858318\",\"privateDnsName\":\"ip-172-31-0-134.us-east-2.compute.internal\",\"privateIpAddress\":\"172.31.0.134\",\"privateIpAddresses\":[{\"association\":{\"carrierIp\":null,\"customerOwnedIp\":null,\"ipOwnerId\":\"amazon\",\"publicDnsName\":\"ec2-18-222-113-217.us-east-2.compute.amazonaws.com\",\"publicIp\":\"18.222.113.217\"},\"primary\":true,\"privateDnsName\":\"ip-172-31-0-134.us-east-2.compute.internal\",\"privateIpAddress\":\"172.31.0.134\"}],\"sourceDestCheck\":true,\"status\":\"in-use\",\"subnetId\":\"subnet-08cffe1b0ae1f9b88\",\"vpcId\":\"vpc-03e53262faff38c42\",\"interfaceType\":\"interface\",\"ipv4Prefixes\":null,\"ipv6Prefixes\":null}],\"outpostArn\":null,\"rootDeviceName\":\"/dev/xvda\",\"rootDeviceType\":\"ebs\",\"securityGroups\":[{\"groupName\":\"launch-wizard-1\",\"groupId\":\"sg-0056aa002fd81c496\"}],\"sourceDestCheck\":true,\"spotInstanceRequestId\":null,\"sriovNetSupport\":null,\"stateReason\":null,\"tags\":[{\"key\":\"Name\",\"value\":\"test\"}],\"virtualizationType\":\"hvm\",\"cpuOptions\":{\"coreCount\":1,\"threadsPerCore\":1},\"capacityReservationId\":null,\"capacityReservationSpecification\":{\"capacityReservationPreference\":\"open\",\"capacityReservationTarget\":null},\"hibernationOptions\":{\"configured\":false},\"licenses\":[],\"metadataOptions\":{\"state\":\"applied\",\"httpTokens\":\"optional\",\"httpPutResponseHopLimit\":1,\"httpEndpoint\":\"enabled\",\"httpProtocolIpv6\":null,\"instanceMetadataTags\":null},\"enclaveOptions\":{\"enabled\":false},\"bootMode\":null,\"platformDetails\":null,\"usageOperation\":null,\"usageOperationUpdateTime\":null,\"privateDnsNameOptions\":null,\"ipv6Address\":null,\"tpmSupport\":null,\"maintenanceOptions\":null}',\n",
       "   'supplementaryConfiguration': {}}]}"
      ]
     },
     "execution_count": 180,
     "metadata": {},
     "output_type": "execute_result"
    }
   ],
   "source": [
    "result = out.decode('utf-8')\n",
    "result = json.loads(result)\n",
    "result"
   ]
  },
  {
   "cell_type": "code",
   "execution_count": 201,
   "id": "3537caf5",
   "metadata": {},
   "outputs": [
    {
     "data": {
      "text/plain": [
       "{'amiLaunchIndex': 0,\n",
       " 'imageId': 'ami-0f3c9c466bb525749',\n",
       " 'instanceId': 'i-0303414e8cd5865c0',\n",
       " 'instanceType': 't2.micro',\n",
       " 'kernelId': None,\n",
       " 'keyName': None,\n",
       " 'launchTime': '2023-03-06T13:56:39.000Z',\n",
       " 'monitoring': {'state': 'disabled'},\n",
       " 'placement': {'availabilityZone': 'us-east-2a',\n",
       "  'affinity': None,\n",
       "  'groupName': '',\n",
       "  'partitionNumber': None,\n",
       "  'hostId': None,\n",
       "  'tenancy': 'default',\n",
       "  'spreadDomain': None,\n",
       "  'hostResourceGroupArn': None,\n",
       "  'groupId': None},\n",
       " 'platform': None,\n",
       " 'privateDnsName': 'ip-172-31-0-134.us-east-2.compute.internal',\n",
       " 'privateIpAddress': '172.31.0.134',\n",
       " 'productCodes': [],\n",
       " 'publicDnsName': 'ec2-18-222-113-217.us-east-2.compute.amazonaws.com',\n",
       " 'publicIpAddress': '18.222.113.217',\n",
       " 'ramdiskId': None,\n",
       " 'state': {'code': 16, 'name': 'running'},\n",
       " 'stateTransitionReason': '',\n",
       " 'subnetId': 'subnet-08cffe1b0ae1f9b88',\n",
       " 'vpcId': 'vpc-03e53262faff38c42',\n",
       " 'architecture': 'x86_64',\n",
       " 'blockDeviceMappings': [{'deviceName': '/dev/xvda',\n",
       "   'ebs': {'attachTime': '2023-03-06T13:56:39.000Z',\n",
       "    'deleteOnTermination': True,\n",
       "    'status': 'attached',\n",
       "    'volumeId': 'vol-0a6914dd0377cb8de'}}],\n",
       " 'clientToken': 'b55e5391-6365-4cf2-bfa2-44b35dbcac3d',\n",
       " 'ebsOptimized': False,\n",
       " 'enaSupport': True,\n",
       " 'hypervisor': 'xen',\n",
       " 'iamInstanceProfile': None,\n",
       " 'instanceLifecycle': None,\n",
       " 'elasticGpuAssociations': [],\n",
       " 'elasticInferenceAcceleratorAssociations': [],\n",
       " 'networkInterfaces': [{'association': {'carrierIp': None,\n",
       "    'customerOwnedIp': None,\n",
       "    'ipOwnerId': 'amazon',\n",
       "    'publicDnsName': 'ec2-18-222-113-217.us-east-2.compute.amazonaws.com',\n",
       "    'publicIp': '18.222.113.217'},\n",
       "   'attachment': {'attachTime': '2023-03-06T13:56:39.000Z',\n",
       "    'attachmentId': 'eni-attach-0f58b2ad5d2d03d25',\n",
       "    'deleteOnTermination': True,\n",
       "    'deviceIndex': 0,\n",
       "    'status': 'attached',\n",
       "    'networkCardIndex': 0},\n",
       "   'description': '',\n",
       "   'groups': [{'groupName': 'launch-wizard-1',\n",
       "     'groupId': 'sg-0056aa002fd81c496'}],\n",
       "   'ipv6Addresses': [],\n",
       "   'macAddress': '02:68:a8:cf:01:c6',\n",
       "   'networkInterfaceId': 'eni-020dc0690f3e6a20e',\n",
       "   'ownerId': '561123858318',\n",
       "   'privateDnsName': 'ip-172-31-0-134.us-east-2.compute.internal',\n",
       "   'privateIpAddress': '172.31.0.134',\n",
       "   'privateIpAddresses': [{'association': {'carrierIp': None,\n",
       "      'customerOwnedIp': None,\n",
       "      'ipOwnerId': 'amazon',\n",
       "      'publicDnsName': 'ec2-18-222-113-217.us-east-2.compute.amazonaws.com',\n",
       "      'publicIp': '18.222.113.217'},\n",
       "     'primary': True,\n",
       "     'privateDnsName': 'ip-172-31-0-134.us-east-2.compute.internal',\n",
       "     'privateIpAddress': '172.31.0.134'}],\n",
       "   'sourceDestCheck': True,\n",
       "   'status': 'in-use',\n",
       "   'subnetId': 'subnet-08cffe1b0ae1f9b88',\n",
       "   'vpcId': 'vpc-03e53262faff38c42',\n",
       "   'interfaceType': 'interface',\n",
       "   'ipv4Prefixes': None,\n",
       "   'ipv6Prefixes': None}],\n",
       " 'outpostArn': None,\n",
       " 'rootDeviceName': '/dev/xvda',\n",
       " 'rootDeviceType': 'ebs',\n",
       " 'securityGroups': [{'groupName': 'launch-wizard-1',\n",
       "   'groupId': 'sg-0056aa002fd81c496'}],\n",
       " 'sourceDestCheck': True,\n",
       " 'spotInstanceRequestId': None,\n",
       " 'sriovNetSupport': None,\n",
       " 'stateReason': None,\n",
       " 'tags': [{'key': 'Name', 'value': 'test'}],\n",
       " 'virtualizationType': 'hvm',\n",
       " 'cpuOptions': {'coreCount': 1, 'threadsPerCore': 1},\n",
       " 'capacityReservationId': None,\n",
       " 'capacityReservationSpecification': {'capacityReservationPreference': 'open',\n",
       "  'capacityReservationTarget': None},\n",
       " 'hibernationOptions': {'configured': False},\n",
       " 'licenses': [],\n",
       " 'metadataOptions': {'state': 'applied',\n",
       "  'httpTokens': 'optional',\n",
       "  'httpPutResponseHopLimit': 1,\n",
       "  'httpEndpoint': 'enabled',\n",
       "  'httpProtocolIpv6': None,\n",
       "  'instanceMetadataTags': None},\n",
       " 'enclaveOptions': {'enabled': False},\n",
       " 'bootMode': None,\n",
       " 'platformDetails': None,\n",
       " 'usageOperation': None,\n",
       " 'usageOperationUpdateTime': None,\n",
       " 'privateDnsNameOptions': None,\n",
       " 'ipv6Address': None,\n",
       " 'tpmSupport': None,\n",
       " 'maintenanceOptions': None}"
      ]
     },
     "execution_count": 201,
     "metadata": {},
     "output_type": "execute_result"
    }
   ],
   "source": [
    "config = result['configurationItems'][0]['configuration']\n",
    "config = json.loads(config)\n",
    "config"
   ]
  },
  {
   "cell_type": "markdown",
   "id": "4960ca4e",
   "metadata": {},
   "source": [
    "### DataFrame"
   ]
  },
  {
   "cell_type": "code",
   "execution_count": 206,
   "id": "9c38dbd7",
   "metadata": {},
   "outputs": [
    {
     "data": {
      "text/html": [
       "<div>\n",
       "<style scoped>\n",
       "    .dataframe tbody tr th:only-of-type {\n",
       "        vertical-align: middle;\n",
       "    }\n",
       "\n",
       "    .dataframe tbody tr th {\n",
       "        vertical-align: top;\n",
       "    }\n",
       "\n",
       "    .dataframe thead th {\n",
       "        text-align: right;\n",
       "    }\n",
       "</style>\n",
       "<table border=\"1\" class=\"dataframe\">\n",
       "  <thead>\n",
       "    <tr style=\"text-align: right;\">\n",
       "      <th></th>\n",
       "      <th>amiLaunchIndex</th>\n",
       "      <th>imageId</th>\n",
       "      <th>instanceId</th>\n",
       "      <th>instanceType</th>\n",
       "      <th>kernelId</th>\n",
       "      <th>keyName</th>\n",
       "      <th>launchTime</th>\n",
       "      <th>monitoring</th>\n",
       "      <th>placement</th>\n",
       "      <th>platform</th>\n",
       "      <th>...</th>\n",
       "      <th>metadataOptions</th>\n",
       "      <th>enclaveOptions</th>\n",
       "      <th>bootMode</th>\n",
       "      <th>platformDetails</th>\n",
       "      <th>usageOperation</th>\n",
       "      <th>usageOperationUpdateTime</th>\n",
       "      <th>privateDnsNameOptions</th>\n",
       "      <th>ipv6Address</th>\n",
       "      <th>tpmSupport</th>\n",
       "      <th>maintenanceOptions</th>\n",
       "    </tr>\n",
       "  </thead>\n",
       "  <tbody>\n",
       "    <tr>\n",
       "      <th>0</th>\n",
       "      <td>0</td>\n",
       "      <td>ami-0f3c9c466bb525749</td>\n",
       "      <td>i-0303414e8cd5865c0</td>\n",
       "      <td>t2.micro</td>\n",
       "      <td>None</td>\n",
       "      <td>None</td>\n",
       "      <td>2023-03-06T13:56:39.000Z</td>\n",
       "      <td>{'state': 'disabled'}</td>\n",
       "      <td>{'availabilityZone': 'us-east-2a', 'affinity':...</td>\n",
       "      <td>None</td>\n",
       "      <td>...</td>\n",
       "      <td>{'state': 'applied', 'httpTokens': 'optional',...</td>\n",
       "      <td>{'enabled': False}</td>\n",
       "      <td>None</td>\n",
       "      <td>None</td>\n",
       "      <td>None</td>\n",
       "      <td>None</td>\n",
       "      <td>None</td>\n",
       "      <td>None</td>\n",
       "      <td>None</td>\n",
       "      <td>None</td>\n",
       "    </tr>\n",
       "  </tbody>\n",
       "</table>\n",
       "<p>1 rows × 56 columns</p>\n",
       "</div>"
      ],
      "text/plain": [
       "  amiLaunchIndex                imageId           instanceId instanceType  \\\n",
       "0              0  ami-0f3c9c466bb525749  i-0303414e8cd5865c0     t2.micro   \n",
       "\n",
       "  kernelId keyName                launchTime             monitoring  \\\n",
       "0     None    None  2023-03-06T13:56:39.000Z  {'state': 'disabled'}   \n",
       "\n",
       "                                           placement platform  ...  \\\n",
       "0  {'availabilityZone': 'us-east-2a', 'affinity':...     None  ...   \n",
       "\n",
       "                                     metadataOptions      enclaveOptions  \\\n",
       "0  {'state': 'applied', 'httpTokens': 'optional',...  {'enabled': False}   \n",
       "\n",
       "  bootMode platformDetails usageOperation usageOperationUpdateTime  \\\n",
       "0     None            None           None                     None   \n",
       "\n",
       "  privateDnsNameOptions ipv6Address tpmSupport maintenanceOptions  \n",
       "0                  None        None       None               None  \n",
       "\n",
       "[1 rows x 56 columns]"
      ]
     },
     "execution_count": 206,
     "metadata": {},
     "output_type": "execute_result"
    }
   ],
   "source": [
    "df_config = pd.DataFrame.from_dict(config, orient='index')\n",
    "df_config.T"
   ]
  },
  {
   "cell_type": "code",
   "execution_count": null,
   "id": "16a3845a",
   "metadata": {},
   "outputs": [],
   "source": []
  }
 ],
 "metadata": {
  "kernelspec": {
   "display_name": "Python [conda env:machine_TF2] *",
   "language": "python",
   "name": "conda-env-machine_TF2-py"
  },
  "language_info": {
   "codemirror_mode": {
    "name": "ipython",
    "version": 3
   },
   "file_extension": ".py",
   "mimetype": "text/x-python",
   "name": "python",
   "nbconvert_exporter": "python",
   "pygments_lexer": "ipython3",
   "version": "3.10.4"
  }
 },
 "nbformat": 4,
 "nbformat_minor": 5
}
