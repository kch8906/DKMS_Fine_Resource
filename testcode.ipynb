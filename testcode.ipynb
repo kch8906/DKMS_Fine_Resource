{
 "cells": [
  {
   "cell_type": "code",
   "execution_count": 2,
   "id": "4bd35cac",
   "metadata": {},
   "outputs": [],
   "source": [
    "import subprocess\n",
    "import json\n",
    "from multiprocessing import Pool\n",
    "import itertools\n",
    "from datetime import datetime\n",
    "import pandas as pd"
   ]
  },
  {
   "cell_type": "code",
   "execution_count": 3,
   "id": "93cfc38a",
   "metadata": {},
   "outputs": [],
   "source": [
    "# resources = \"AWS::EC2::CustomerGateway | AWS::EC2::EIP | AWS::EC2::Host | AWS::EC2::Instance | AWS::EC2::InternetGateway | AWS::EC2::NetworkAcl | AWS::EC2::NetworkInterface | AWS::EC2::RouteTable | AWS::EC2::SecurityGroup | AWS::EC2::Subnet | AWS::CloudTrail::Trail | AWS::EC2::Volume | AWS::EC2::VPC | AWS::EC2::VPNConnection | AWS::EC2::VPNGateway | AWS::EC2::RegisteredHAInstance | AWS::EC2::NatGateway | AWS::EC2::EgressOnlyInternetGateway | AWS::EC2::VPCEndpoint | AWS::EC2::VPCEndpointService | AWS::EC2::FlowLog | AWS::EC2::VPCPeeringConnection | AWS::Elasticsearch::Domain | AWS::IAM::Group | AWS::IAM::Policy | AWS::IAM::Role | AWS::IAM::User | AWS::ElasticLoadBalancingV2::LoadBalancer | AWS::ACM::Certificate | AWS::RDS::DBInstance | AWS::RDS::DBSubnetGroup | AWS::RDS::DBSecurityGroup | AWS::RDS::DBSnapshot | AWS::RDS::DBCluster | AWS::RDS::DBClusterSnapshot | AWS::RDS::EventSubscription | AWS::S3::Bucket | AWS::S3::AccountPublicAccessBlock | AWS::Redshift::Cluster | AWS::Redshift::ClusterSnapshot | AWS::Redshift::ClusterParameterGroup | AWS::Redshift::ClusterSecurityGroup | AWS::Redshift::ClusterSubnetGroup | AWS::Redshift::EventSubscription | AWS::SSM::ManagedInstanceInventory | AWS::CloudWatch::Alarm | AWS::CloudFormation::Stack | AWS::ElasticLoadBalancing::LoadBalancer | AWS::AutoScaling::AutoScalingGroup | AWS::AutoScaling::LaunchConfiguration | AWS::AutoScaling::ScalingPolicy | AWS::AutoScaling::ScheduledAction | AWS::DynamoDB::Table | AWS::CodeBuild::Project | AWS::WAF::RateBasedRule | AWS::WAF::Rule | AWS::WAF::RuleGroup | AWS::WAF::WebACL | AWS::WAFRegional::RateBasedRule | AWS::WAFRegional::Rule | AWS::WAFRegional::RuleGroup | AWS::WAFRegional::WebACL | AWS::CloudFront::Distribution | AWS::CloudFront::StreamingDistribution | AWS::Lambda::Function | AWS::NetworkFirewall::Firewall | AWS::NetworkFirewall::FirewallPolicy | AWS::NetworkFirewall::RuleGroup | AWS::ElasticBeanstalk::Application | AWS::ElasticBeanstalk::ApplicationVersion | AWS::ElasticBeanstalk::Environment | AWS::WAFv2::WebACL | AWS::WAFv2::RuleGroup | AWS::WAFv2::IPSet | AWS::WAFv2::RegexPatternSet | AWS::WAFv2::ManagedRuleSet | AWS::XRay::EncryptionConfig | AWS::SSM::AssociationCompliance | AWS::SSM::PatchCompliance | AWS::Shield::Protection | AWS::ShieldRegional::Protection | AWS::Config::ConformancePackCompliance | AWS::Config::ResourceCompliance | AWS::ApiGateway::Stage | AWS::ApiGateway::RestApi | AWS::ApiGatewayV2::Stage | AWS::ApiGatewayV2::Api | AWS::CodePipeline::Pipeline | AWS::ServiceCatalog::CloudFormationProvisionedProduct | AWS::ServiceCatalog::CloudFormationProduct | AWS::ServiceCatalog::Portfolio | AWS::SQS::Queue | AWS::KMS::Key | AWS::QLDB::Ledger | AWS::SecretsManager::Secret | AWS::SNS::Topic | AWS::SSM::FileData | AWS::Backup::BackupPlan | AWS::Backup::BackupSelection | AWS::Backup::BackupVault | AWS::Backup::RecoveryPoint | AWS::ECR::Repository | AWS::ECS::Cluster | AWS::ECS::Service | AWS::ECS::TaskDefinition | AWS::EFS::AccessPoint | AWS::EFS::FileSystem | AWS::EKS::Cluster | AWS::OpenSearch::Domain | AWS::EC2::TransitGateway | AWS::Kinesis::Stream | AWS::Kinesis::StreamConsumer | AWS::CodeDeploy::Application | AWS::CodeDeploy::DeploymentConfig | AWS::CodeDeploy::DeploymentGroup | AWS::EC2::LaunchTemplate | AWS::ECR::PublicRepository | AWS::GuardDuty::Detector | AWS::EMR::SecurityConfiguration | AWS::SageMaker::CodeRepository | AWS::Route53Resolver::ResolverEndpoint | AWS::Route53Resolver::ResolverRule | AWS::Route53Resolver::ResolverRuleAssociation | AWS::DMS::ReplicationSubnetGroup | AWS::DMS::EventSubscription | AWS::MSK::Cluster | AWS::StepFunctions::Activity | AWS::WorkSpaces::Workspace | AWS::WorkSpaces::ConnectionAlias | AWS::SageMaker::Model | AWS::ElasticLoadBalancingV2::Listener | AWS::StepFunctions::StateMachine | AWS::Batch::JobQueue | AWS::Batch::ComputeEnvironment | AWS::AccessAnalyzer::Analyzer | AWS::Athena::WorkGroup | AWS::Athena::DataCatalog | AWS::Detective::Graph | AWS::GlobalAccelerator::Accelerator | AWS::GlobalAccelerator::EndpointGroup | AWS::GlobalAccelerator::Listener | AWS::EC2::TransitGatewayAttachment | AWS::EC2::TransitGatewayRouteTable | AWS::DMS::Certificate | AWS::AppConfig::Application | AWS::AppSync::GraphQLApi | AWS::DataSync::LocationSMB | AWS::DataSync::LocationFSxLustre | AWS::DataSync::LocationS3 | AWS::DataSync::LocationEFS | AWS::DataSync::Task | AWS::DataSync::LocationNFS | AWS::EC2::NetworkInsightsAccessScopeAnalysis | AWS::EKS::FargateProfile | AWS::Route53::HostedZone\"\n",
    "resources = \"AWS::EC2::CustomerGateway | AWS::EC2::EIP | AWS::EC2::Host | AWS::EC2::Instance | AWS::EC2::InternetGateway | AWS::EC2::NetworkAcl | AWS::EC2::NetworkInterface | AWS::EC2::RouteTable | AWS::EC2::SecurityGroup | AWS::EC2::Subnet | AWS::CloudTrail::Trail | AWS::EC2::Volume | AWS::EC2::VPC | AWS::EC2::VPNConnection | AWS::EC2::VPNGateway | AWS::EC2::RegisteredHAInstance | AWS::EC2::NatGateway | AWS::EC2::EgressOnlyInternetGateway | AWS::EC2::VPCEndpoint | AWS::EC2::VPCEndpointService | AWS::EC2::VPCPeeringConnection | AWS::IAM::Group | AWS::IAM::Policy | AWS::IAM::Role | AWS::IAM::User |  AWS::ElasticLoadBalancingV2::LoadBalancer | AWS::ACM::Certificate | AWS::RDS::DBInstance | AWS::RDS::DBSubnetGroup | AWS::RDS::DBSecurityGroup | AWS::RDS::DBSnapshot | AWS::RDS::DBCluster | AWS::RDS::DBClusterSnapshot | AWS::RDS::EventSubscription | AWS::S3::Bucket | AWS::S3::AccountPublicAccessBlock | AWS::ElasticLoadBalancing::LoadBalancer | AWS::AutoScaling::ScalingPolicy | AWS::AutoScaling::ScheduledAction | AWS::DynamoDB::Table | AWS::Lambda::Function | AWS::NetworkFirewall::Firewall | AWS::NetworkFirewall::FirewallPolicy | AWS::NetworkFirewall::RuleGroup | AWS::ECR::Repository | AWS::EKS::Cluster | AWS::Route53::HostedZone\"\n",
    "resource_lists = resources.split(\" | \")"
   ]
  },
  {
   "cell_type": "markdown",
   "id": "c0c7790d",
   "metadata": {},
   "source": [
    "### 리소스 확인"
   ]
  },
  {
   "cell_type": "code",
   "execution_count": 4,
   "id": "34333e75",
   "metadata": {},
   "outputs": [],
   "source": [
    "exist_resources = []\n",
    "\n",
    "def find_resource(resource) -> str:    \n",
    "#     for item in tqdm(resource):\n",
    "    proc = subprocess.Popen(\n",
    "        ['aws', 'configservice', 'list-discovered-resources', '--resource-type', f'{resource}'],\n",
    "    stdout = subprocess.PIPE\n",
    "    )\n",
    "    out, err = proc.communicate()\n",
    "    \n",
    "    if 'resourceType' in str(out):\n",
    "        out = out.decode('utf-8')\n",
    "        out = json.loads(out)\n",
    "        resourceID = [out['resourceIdentifiers'][idx]['resourceId'] for idx in range(len(out['resourceIdentifiers']))]\n",
    "        return [resource, resourceID]\n",
    "    else:\n",
    "        return 0\n"
   ]
  },
  {
   "cell_type": "code",
   "execution_count": 5,
   "id": "e67fe5d4",
   "metadata": {},
   "outputs": [],
   "source": [
    "def multiprocessing(resource_lists) -> list:\n",
    "    if __name__=='__main__':  \n",
    "        pool = Pool(processes=6)\n",
    "        resource = pool.map(find_resource, resource_lists)\n",
    "        exist_resources.append(resource)\n",
    "        pool.close()\n",
    "        pool.join()"
   ]
  },
  {
   "cell_type": "code",
   "execution_count": 6,
   "id": "f0752d57",
   "metadata": {},
   "outputs": [],
   "source": [
    "multiprocessing(resource_lists)"
   ]
  },
  {
   "cell_type": "code",
   "execution_count": 7,
   "id": "04a6c8c4",
   "metadata": {
    "scrolled": true
   },
   "outputs": [
    {
     "data": {
      "text/plain": [
       "[['AWS::EC2::Instance',\n",
       "  ['i-0303414e8cd5865c0',\n",
       "   'i-066189a9744d6ec3a',\n",
       "   'i-08614a76a021f514f',\n",
       "   'i-089772e9e1906ad02']],\n",
       " ['AWS::EC2::InternetGateway', ['igw-082d2f709fb46e0c1']],\n",
       " ['AWS::EC2::NetworkAcl', ['acl-083b0ddb288659148', 'acl-09d6463116ca6874d']],\n",
       " ['AWS::EC2::NetworkInterface',\n",
       "  ['eni-011b59f865f162856',\n",
       "   'eni-020dc0690f3e6a20e',\n",
       "   'eni-061cabcf0e433f314',\n",
       "   'eni-0d62282a423a075c3']],\n",
       " ['AWS::EC2::RouteTable', ['rtb-05c6676d8dc18909b', 'rtb-0bf37f5bb938ce786']],\n",
       " ['AWS::EC2::SecurityGroup',\n",
       "  ['sg-0056aa002fd81c496',\n",
       "   'sg-014d3be3fb7e16872',\n",
       "   'sg-053aaf7f2b8c9b204',\n",
       "   'sg-087fe725d638099cf',\n",
       "   'sg-0b8f402642ccea7fb']],\n",
       " ['AWS::EC2::Subnet',\n",
       "  ['subnet-00411fd2c8840890e',\n",
       "   'subnet-071c230d55f28bdc4',\n",
       "   'subnet-08cffe1b0ae1f9b88',\n",
       "   'subnet-0f3206884d9698f40']],\n",
       " ['AWS::EC2::Volume',\n",
       "  ['vol-036f5e09497c71819',\n",
       "   'vol-079dc0e8cf94f5762',\n",
       "   'vol-0a6914dd0377cb8de',\n",
       "   'vol-0cb8e382bb271a77e']],\n",
       " ['AWS::EC2::VPC', ['vpc-03e53262faff38c42', 'vpc-0692b1a3b27d4ea7b']],\n",
       " ['AWS::S3::Bucket', ['config-bucket-561123858318', 'mybucket-123421']]]"
      ]
     },
     "execution_count": 7,
     "metadata": {},
     "output_type": "execute_result"
    }
   ],
   "source": [
    "exist_resources = list(itertools.chain(*exist_resources))\n",
    "exist_resources = [item for item in exist_resources if item != 0]\n",
    "exist_resources"
   ]
  },
  {
   "cell_type": "code",
   "execution_count": 8,
   "id": "912ff5b9",
   "metadata": {},
   "outputs": [
    {
     "data": {
      "text/plain": [
       "'{\"1\": [\"AWS::EC2::Instance\", [\"i-0303414e8cd5865c0\", \"i-066189a9744d6ec3a\", \"i-08614a76a021f514f\", \"i-089772e9e1906ad02\"]], \"2\": [\"AWS::EC2::InternetGateway\", [\"igw-082d2f709fb46e0c1\"]], \"3\": [\"AWS::EC2::NetworkAcl\", [\"acl-083b0ddb288659148\", \"acl-09d6463116ca6874d\"]], \"4\": [\"AWS::EC2::NetworkInterface\", [\"eni-011b59f865f162856\", \"eni-020dc0690f3e6a20e\", \"eni-061cabcf0e433f314\", \"eni-0d62282a423a075c3\"]], \"5\": [\"AWS::EC2::RouteTable\", [\"rtb-05c6676d8dc18909b\", \"rtb-0bf37f5bb938ce786\"]], \"6\": [\"AWS::EC2::SecurityGroup\", [\"sg-0056aa002fd81c496\", \"sg-014d3be3fb7e16872\", \"sg-053aaf7f2b8c9b204\", \"sg-087fe725d638099cf\", \"sg-0b8f402642ccea7fb\"]], \"7\": [\"AWS::EC2::Subnet\", [\"subnet-00411fd2c8840890e\", \"subnet-071c230d55f28bdc4\", \"subnet-08cffe1b0ae1f9b88\", \"subnet-0f3206884d9698f40\"]], \"8\": [\"AWS::EC2::Volume\", [\"vol-036f5e09497c71819\", \"vol-079dc0e8cf94f5762\", \"vol-0a6914dd0377cb8de\", \"vol-0cb8e382bb271a77e\"]], \"9\": [\"AWS::EC2::VPC\", [\"vpc-03e53262faff38c42\", \"vpc-0692b1a3b27d4ea7b\"]], \"10\": [\"AWS::S3::Bucket\", [\"config-bucket-561123858318\", \"mybucket-123421\"]]}'"
      ]
     },
     "execution_count": 8,
     "metadata": {},
     "output_type": "execute_result"
    }
   ],
   "source": [
    "exist_resources = dict(zip(range(1, len(exist_resources) + 1), exist_resources))\n",
    "json.dumps(exist_resources)"
   ]
  },
  {
   "cell_type": "code",
   "execution_count": 65,
   "id": "15c22368",
   "metadata": {
    "scrolled": true
   },
   "outputs": [
    {
     "name": "stderr",
     "output_type": "stream",
     "text": [
      "/tmp/ipykernel_17147/3422831267.py:2: FutureWarning: The pandas.datetime class is deprecated and will be removed from pandas in a future version. Import from datetime module instead.\n",
      "  df_fine_resource['date']=pd.datetime.now().date()\n"
     ]
    },
    {
     "data": {
      "text/html": [
       "<div>\n",
       "<style scoped>\n",
       "    .dataframe tbody tr th:only-of-type {\n",
       "        vertical-align: middle;\n",
       "    }\n",
       "\n",
       "    .dataframe tbody tr th {\n",
       "        vertical-align: top;\n",
       "    }\n",
       "\n",
       "    .dataframe thead th {\n",
       "        text-align: right;\n",
       "    }\n",
       "</style>\n",
       "<table border=\"1\" class=\"dataframe\">\n",
       "  <thead>\n",
       "    <tr style=\"text-align: right;\">\n",
       "      <th></th>\n",
       "      <th>resource_type</th>\n",
       "      <th>count</th>\n",
       "    </tr>\n",
       "  </thead>\n",
       "  <tbody>\n",
       "    <tr>\n",
       "      <th>0</th>\n",
       "      <td>AWS::EC2::SecurityGroup</td>\n",
       "      <td>5</td>\n",
       "    </tr>\n",
       "    <tr>\n",
       "      <th>1</th>\n",
       "      <td>AWS::EC2::Instance</td>\n",
       "      <td>4</td>\n",
       "    </tr>\n",
       "    <tr>\n",
       "      <th>2</th>\n",
       "      <td>AWS::EC2::NetworkInterface</td>\n",
       "      <td>4</td>\n",
       "    </tr>\n",
       "    <tr>\n",
       "      <th>3</th>\n",
       "      <td>AWS::EC2::Subnet</td>\n",
       "      <td>4</td>\n",
       "    </tr>\n",
       "    <tr>\n",
       "      <th>4</th>\n",
       "      <td>AWS::EC2::Volume</td>\n",
       "      <td>4</td>\n",
       "    </tr>\n",
       "    <tr>\n",
       "      <th>5</th>\n",
       "      <td>AWS::EC2::NetworkAcl</td>\n",
       "      <td>2</td>\n",
       "    </tr>\n",
       "    <tr>\n",
       "      <th>6</th>\n",
       "      <td>AWS::EC2::RouteTable</td>\n",
       "      <td>2</td>\n",
       "    </tr>\n",
       "    <tr>\n",
       "      <th>7</th>\n",
       "      <td>AWS::EC2::VPC</td>\n",
       "      <td>2</td>\n",
       "    </tr>\n",
       "    <tr>\n",
       "      <th>8</th>\n",
       "      <td>AWS::S3::Bucket</td>\n",
       "      <td>2</td>\n",
       "    </tr>\n",
       "    <tr>\n",
       "      <th>9</th>\n",
       "      <td>AWS::EC2::InternetGateway</td>\n",
       "      <td>1</td>\n",
       "    </tr>\n",
       "  </tbody>\n",
       "</table>\n",
       "</div>"
      ],
      "text/plain": [
       "                resource_type  count\n",
       "0     AWS::EC2::SecurityGroup      5\n",
       "1          AWS::EC2::Instance      4\n",
       "2  AWS::EC2::NetworkInterface      4\n",
       "3            AWS::EC2::Subnet      4\n",
       "4            AWS::EC2::Volume      4\n",
       "5        AWS::EC2::NetworkAcl      2\n",
       "6        AWS::EC2::RouteTable      2\n",
       "7               AWS::EC2::VPC      2\n",
       "8             AWS::S3::Bucket      2\n",
       "9   AWS::EC2::InternetGateway      1"
      ]
     },
     "execution_count": 65,
     "metadata": {},
     "output_type": "execute_result"
    }
   ],
   "source": [
    "df_fine_resource = pd.DataFrame.from_dict(exist_resources, orient='index', columns=['resource_type','tesource_id'])\n",
    "df_fine_resource['date']=pd.datetime.now().date()\n",
    "df_fine_resource.explode('tesource_id').value_counts(\"resource_type\").to_frame(\"count\").reset_index()\n"
   ]
  },
  {
   "cell_type": "markdown",
   "id": "2cc658bf",
   "metadata": {},
   "source": [
    "### google\n",
    "- sdk를 통해 서비스계정을 사용하라면 환경변수를 설정해야 함"
   ]
  },
  {
   "cell_type": "code",
   "execution_count": 47,
   "id": "fc3bd75d",
   "metadata": {},
   "outputs": [],
   "source": [
    "from google.cloud import storage\n",
    "from google.oauth2 import service_account\n",
    "\n",
    "\n",
    "KEY_PATH = \"/home/crysis/procjets/DKMS_Fine_Resource/gcp_sa_key/pj-3tier-data-9415424f663b.json\"\n",
    "credentials = service_account.Credentials.from_service_account_file(KEY_PATH)\n",
    "client = storage.Client(credentials = credentials, project = credentials.project_id)"
   ]
  },
  {
   "cell_type": "code",
   "execution_count": 35,
   "id": "c641b10d",
   "metadata": {},
   "outputs": [],
   "source": [
    "buckets = list(client.list_buckets())\n",
    "bucket_name = \"test_234212\""
   ]
  },
  {
   "cell_type": "code",
   "execution_count": 42,
   "id": "b8755469",
   "metadata": {},
   "outputs": [],
   "source": [
    "bucket = client.get_bucket(bucket_name)\n",
    "blob_name = \"resource_list.csv\"\n",
    "file_path = \"/home/crysis/procjets/DKMS_Fine_Resource/20230310_resource_list.csv\""
   ]
  },
  {
   "cell_type": "code",
   "execution_count": 45,
   "id": "80723acc",
   "metadata": {},
   "outputs": [],
   "source": [
    "blob = bucket.blob(blob_name)\n",
    "blob.upload_from_filename(file_path)"
   ]
  },
  {
   "cell_type": "markdown",
   "id": "ce9ab138",
   "metadata": {},
   "source": [
    "### boto3"
   ]
  },
  {
   "cell_type": "code",
   "execution_count": 4,
   "id": "229c46df",
   "metadata": {},
   "outputs": [],
   "source": [
    "import boto3\n",
    "import json\n",
    "\n",
    "REGIONS = [\n",
    "    \"ap-northeast-2\",\n",
    "    \"us-east-2\"\n",
    "]\n",
    "\n",
    "def get_ec2_id(region_name):\n",
    "    ec2 = boto3.client('ec2', region_name=region_name)\n",
    "    ec2s = ec2.describe_instances()\n",
    "    ec2s_configs = ec2s['Reservations']\n",
    "\n",
    "    return ec2s_configs"
   ]
  },
  {
   "cell_type": "code",
   "execution_count": 26,
   "id": "6307fcc9",
   "metadata": {},
   "outputs": [],
   "source": [
    "test = get_ec2_id(REGIONS[1])"
   ]
  },
  {
   "cell_type": "code",
   "execution_count": 28,
   "id": "6307314f",
   "metadata": {},
   "outputs": [],
   "source": [
    "df_config = pd.DataFrame(test)"
   ]
  },
  {
   "cell_type": "code",
   "execution_count": 60,
   "id": "8d02639b",
   "metadata": {},
   "outputs": [
    {
     "data": {
      "text/html": [
       "<div>\n",
       "<style scoped>\n",
       "    .dataframe tbody tr th:only-of-type {\n",
       "        vertical-align: middle;\n",
       "    }\n",
       "\n",
       "    .dataframe tbody tr th {\n",
       "        vertical-align: top;\n",
       "    }\n",
       "\n",
       "    .dataframe thead th {\n",
       "        text-align: right;\n",
       "    }\n",
       "</style>\n",
       "<table border=\"1\" class=\"dataframe\">\n",
       "  <thead>\n",
       "    <tr style=\"text-align: right;\">\n",
       "      <th></th>\n",
       "      <th>AmiLaunchIndex</th>\n",
       "      <th>ImageId</th>\n",
       "      <th>InstanceId</th>\n",
       "      <th>InstanceType</th>\n",
       "      <th>LaunchTime</th>\n",
       "      <th>Monitoring</th>\n",
       "      <th>Placement</th>\n",
       "      <th>PrivateDnsName</th>\n",
       "      <th>PrivateIpAddress</th>\n",
       "      <th>ProductCodes</th>\n",
       "      <th>...</th>\n",
       "      <th>CpuOptions</th>\n",
       "      <th>CapacityReservationSpecification</th>\n",
       "      <th>HibernationOptions</th>\n",
       "      <th>MetadataOptions</th>\n",
       "      <th>EnclaveOptions</th>\n",
       "      <th>PlatformDetails</th>\n",
       "      <th>UsageOperation</th>\n",
       "      <th>UsageOperationUpdateTime</th>\n",
       "      <th>PrivateDnsNameOptions</th>\n",
       "      <th>MaintenanceOptions</th>\n",
       "    </tr>\n",
       "  </thead>\n",
       "  <tbody>\n",
       "    <tr>\n",
       "      <th>0</th>\n",
       "      <td>0</td>\n",
       "      <td>ami-0f3c9c466bb525749</td>\n",
       "      <td>i-089772e9e1906ad02</td>\n",
       "      <td>t2.micro</td>\n",
       "      <td>2023-03-09 08:29:33+00:00</td>\n",
       "      <td>{'State': 'disabled'}</td>\n",
       "      <td>{'AvailabilityZone': 'us-east-2a', 'GroupName'...</td>\n",
       "      <td>ip-172-31-12-122.us-east-2.compute.internal</td>\n",
       "      <td>172.31.12.122</td>\n",
       "      <td>[]</td>\n",
       "      <td>...</td>\n",
       "      <td>{'CoreCount': 1, 'ThreadsPerCore': 1}</td>\n",
       "      <td>{'CapacityReservationPreference': 'open'}</td>\n",
       "      <td>{'Configured': False}</td>\n",
       "      <td>{'State': 'applied', 'HttpTokens': 'optional',...</td>\n",
       "      <td>{'Enabled': False}</td>\n",
       "      <td>Linux/UNIX</td>\n",
       "      <td>RunInstances</td>\n",
       "      <td>2023-03-09 08:29:33+00:00</td>\n",
       "      <td>{'HostnameType': 'ip-name', 'EnableResourceNam...</td>\n",
       "      <td>{'AutoRecovery': 'default'}</td>\n",
       "    </tr>\n",
       "    <tr>\n",
       "      <th>1</th>\n",
       "      <td>0</td>\n",
       "      <td>ami-0f3c9c466bb525749</td>\n",
       "      <td>i-0303414e8cd5865c0</td>\n",
       "      <td>t2.micro</td>\n",
       "      <td>2023-03-06 13:56:39+00:00</td>\n",
       "      <td>{'State': 'disabled'}</td>\n",
       "      <td>{'AvailabilityZone': 'us-east-2a', 'GroupName'...</td>\n",
       "      <td>ip-172-31-0-134.us-east-2.compute.internal</td>\n",
       "      <td>172.31.0.134</td>\n",
       "      <td>[]</td>\n",
       "      <td>...</td>\n",
       "      <td>{'CoreCount': 1, 'ThreadsPerCore': 1}</td>\n",
       "      <td>{'CapacityReservationPreference': 'open'}</td>\n",
       "      <td>{'Configured': False}</td>\n",
       "      <td>{'State': 'applied', 'HttpTokens': 'optional',...</td>\n",
       "      <td>{'Enabled': False}</td>\n",
       "      <td>Linux/UNIX</td>\n",
       "      <td>RunInstances</td>\n",
       "      <td>2023-03-06 13:56:39+00:00</td>\n",
       "      <td>{'HostnameType': 'ip-name', 'EnableResourceNam...</td>\n",
       "      <td>{'AutoRecovery': 'default'}</td>\n",
       "    </tr>\n",
       "    <tr>\n",
       "      <th>2</th>\n",
       "      <td>0</td>\n",
       "      <td>ami-0f3c9c466bb525749</td>\n",
       "      <td>i-066189a9744d6ec3a</td>\n",
       "      <td>t2.micro</td>\n",
       "      <td>2023-03-09 08:17:55+00:00</td>\n",
       "      <td>{'State': 'disabled'}</td>\n",
       "      <td>{'AvailabilityZone': 'us-east-2a', 'GroupName'...</td>\n",
       "      <td>ip-172-31-9-51.us-east-2.compute.internal</td>\n",
       "      <td>172.31.9.51</td>\n",
       "      <td>[]</td>\n",
       "      <td>...</td>\n",
       "      <td>{'CoreCount': 1, 'ThreadsPerCore': 1}</td>\n",
       "      <td>{'CapacityReservationPreference': 'open'}</td>\n",
       "      <td>{'Configured': False}</td>\n",
       "      <td>{'State': 'applied', 'HttpTokens': 'optional',...</td>\n",
       "      <td>{'Enabled': False}</td>\n",
       "      <td>Linux/UNIX</td>\n",
       "      <td>RunInstances</td>\n",
       "      <td>2023-03-09 08:17:55+00:00</td>\n",
       "      <td>{'HostnameType': 'ip-name', 'EnableResourceNam...</td>\n",
       "      <td>{'AutoRecovery': 'default'}</td>\n",
       "    </tr>\n",
       "    <tr>\n",
       "      <th>3</th>\n",
       "      <td>0</td>\n",
       "      <td>ami-02238ac43d6385ab3</td>\n",
       "      <td>i-08614a76a021f514f</td>\n",
       "      <td>t2.micro</td>\n",
       "      <td>2023-03-10 06:55:43+00:00</td>\n",
       "      <td>{'State': 'disabled'}</td>\n",
       "      <td>{'AvailabilityZone': 'us-east-2a', 'GroupName'...</td>\n",
       "      <td>ip-172-31-8-110.us-east-2.compute.internal</td>\n",
       "      <td>172.31.8.110</td>\n",
       "      <td>[]</td>\n",
       "      <td>...</td>\n",
       "      <td>{'CoreCount': 1, 'ThreadsPerCore': 1}</td>\n",
       "      <td>{'CapacityReservationPreference': 'open'}</td>\n",
       "      <td>{'Configured': False}</td>\n",
       "      <td>{'State': 'applied', 'HttpTokens': 'optional',...</td>\n",
       "      <td>{'Enabled': False}</td>\n",
       "      <td>Linux/UNIX</td>\n",
       "      <td>RunInstances</td>\n",
       "      <td>2023-03-10 06:55:43+00:00</td>\n",
       "      <td>{'HostnameType': 'ip-name', 'EnableResourceNam...</td>\n",
       "      <td>{'AutoRecovery': 'default'}</td>\n",
       "    </tr>\n",
       "  </tbody>\n",
       "</table>\n",
       "<p>4 rows × 39 columns</p>\n",
       "</div>"
      ],
      "text/plain": [
       "  AmiLaunchIndex                ImageId           InstanceId InstanceType  \\\n",
       "0              0  ami-0f3c9c466bb525749  i-089772e9e1906ad02     t2.micro   \n",
       "1              0  ami-0f3c9c466bb525749  i-0303414e8cd5865c0     t2.micro   \n",
       "2              0  ami-0f3c9c466bb525749  i-066189a9744d6ec3a     t2.micro   \n",
       "3              0  ami-02238ac43d6385ab3  i-08614a76a021f514f     t2.micro   \n",
       "\n",
       "                 LaunchTime             Monitoring  \\\n",
       "0 2023-03-09 08:29:33+00:00  {'State': 'disabled'}   \n",
       "1 2023-03-06 13:56:39+00:00  {'State': 'disabled'}   \n",
       "2 2023-03-09 08:17:55+00:00  {'State': 'disabled'}   \n",
       "3 2023-03-10 06:55:43+00:00  {'State': 'disabled'}   \n",
       "\n",
       "                                           Placement  \\\n",
       "0  {'AvailabilityZone': 'us-east-2a', 'GroupName'...   \n",
       "1  {'AvailabilityZone': 'us-east-2a', 'GroupName'...   \n",
       "2  {'AvailabilityZone': 'us-east-2a', 'GroupName'...   \n",
       "3  {'AvailabilityZone': 'us-east-2a', 'GroupName'...   \n",
       "\n",
       "                                PrivateDnsName PrivateIpAddress ProductCodes  \\\n",
       "0  ip-172-31-12-122.us-east-2.compute.internal    172.31.12.122           []   \n",
       "1   ip-172-31-0-134.us-east-2.compute.internal     172.31.0.134           []   \n",
       "2    ip-172-31-9-51.us-east-2.compute.internal      172.31.9.51           []   \n",
       "3   ip-172-31-8-110.us-east-2.compute.internal     172.31.8.110           []   \n",
       "\n",
       "   ...                             CpuOptions  \\\n",
       "0  ...  {'CoreCount': 1, 'ThreadsPerCore': 1}   \n",
       "1  ...  {'CoreCount': 1, 'ThreadsPerCore': 1}   \n",
       "2  ...  {'CoreCount': 1, 'ThreadsPerCore': 1}   \n",
       "3  ...  {'CoreCount': 1, 'ThreadsPerCore': 1}   \n",
       "\n",
       "            CapacityReservationSpecification     HibernationOptions  \\\n",
       "0  {'CapacityReservationPreference': 'open'}  {'Configured': False}   \n",
       "1  {'CapacityReservationPreference': 'open'}  {'Configured': False}   \n",
       "2  {'CapacityReservationPreference': 'open'}  {'Configured': False}   \n",
       "3  {'CapacityReservationPreference': 'open'}  {'Configured': False}   \n",
       "\n",
       "                                     MetadataOptions      EnclaveOptions  \\\n",
       "0  {'State': 'applied', 'HttpTokens': 'optional',...  {'Enabled': False}   \n",
       "1  {'State': 'applied', 'HttpTokens': 'optional',...  {'Enabled': False}   \n",
       "2  {'State': 'applied', 'HttpTokens': 'optional',...  {'Enabled': False}   \n",
       "3  {'State': 'applied', 'HttpTokens': 'optional',...  {'Enabled': False}   \n",
       "\n",
       "  PlatformDetails UsageOperation  UsageOperationUpdateTime  \\\n",
       "0      Linux/UNIX   RunInstances 2023-03-09 08:29:33+00:00   \n",
       "1      Linux/UNIX   RunInstances 2023-03-06 13:56:39+00:00   \n",
       "2      Linux/UNIX   RunInstances 2023-03-09 08:17:55+00:00   \n",
       "3      Linux/UNIX   RunInstances 2023-03-10 06:55:43+00:00   \n",
       "\n",
       "                               PrivateDnsNameOptions  \\\n",
       "0  {'HostnameType': 'ip-name', 'EnableResourceNam...   \n",
       "1  {'HostnameType': 'ip-name', 'EnableResourceNam...   \n",
       "2  {'HostnameType': 'ip-name', 'EnableResourceNam...   \n",
       "3  {'HostnameType': 'ip-name', 'EnableResourceNam...   \n",
       "\n",
       "            MaintenanceOptions  \n",
       "0  {'AutoRecovery': 'default'}  \n",
       "1  {'AutoRecovery': 'default'}  \n",
       "2  {'AutoRecovery': 'default'}  \n",
       "3  {'AutoRecovery': 'default'}  \n",
       "\n",
       "[4 rows x 39 columns]"
      ]
     },
     "execution_count": 60,
     "metadata": {},
     "output_type": "execute_result"
    }
   ],
   "source": [
    "count = df_config['Instances'].count()\n",
    "test2 = pd.DataFrame.from_dict(df_config['Instances'][0], orient='index').T\n",
    "for i in range(1, count):\n",
    "    test2.loc[i] = df_config['Instances'][i]\n",
    "    \n",
    "test2"
   ]
  },
  {
   "cell_type": "code",
   "execution_count": 40,
   "id": "59198fc4",
   "metadata": {},
   "outputs": [],
   "source": [
    "test2.to_csv('test.csv')"
   ]
  }
 ],
 "metadata": {
  "kernelspec": {
   "display_name": "dkms",
   "language": "python",
   "name": "dkms"
  },
  "language_info": {
   "codemirror_mode": {
    "name": "ipython",
    "version": 3
   },
   "file_extension": ".py",
   "mimetype": "text/x-python",
   "name": "python",
   "nbconvert_exporter": "python",
   "pygments_lexer": "ipython3",
   "version": "3.9.13"
  }
 },
 "nbformat": 4,
 "nbformat_minor": 5
}
