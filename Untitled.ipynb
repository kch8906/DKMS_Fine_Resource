{
 "cells": [
  {
   "cell_type": "code",
   "execution_count": 1,
   "id": "702c02e2",
   "metadata": {},
   "outputs": [],
   "source": [
    "import subprocess\n",
    "import json\n",
    "from multiprocessing import Pool\n",
    "import itertools\n",
    "from datetime import datetime\n",
    "import pandas as pd\n"
   ]
  },
  {
   "cell_type": "code",
   "execution_count": 2,
   "id": "8a3f4c67",
   "metadata": {},
   "outputs": [],
   "source": [
    "def find_resource(resource) -> str:    \n",
    "#     for item in tqdm(resource):\n",
    "    proc = subprocess.Popen(\n",
    "        ['aws', 'configservice', 'list-discovered-resources', '--resource-type', f'{resource}'],\n",
    "    stdout = subprocess.PIPE\n",
    "    )\n",
    "    out, err = proc.communicate()\n",
    "    \n",
    "    if 'resourceType' in str(out):\n",
    "        out = out.decode('utf-8')\n",
    "        out = json.loads(out)\n",
    "        resourceID = [out['resourceIdentifiers'][idx]['resourceId'] for idx in range(len(out['resourceIdentifiers']))]\n",
    "        return [resource, resourceID]\n",
    "    else:\n",
    "        return 0"
   ]
  },
  {
   "cell_type": "code",
   "execution_count": 15,
   "id": "b616a15f",
   "metadata": {},
   "outputs": [],
   "source": [
    "def multiprocessing(resource_lists) -> list:\n",
    "    pool = Pool(processes=12)\n",
    "    resource = pool.map(find_resource, resource_lists)\n",
    "    exist_resources.append(resource)\n",
    "    print(resource)\n",
    "    pool.close()\n",
    "    pool.join()"
   ]
  },
  {
   "cell_type": "code",
   "execution_count": 24,
   "id": "c7f26a8d",
   "metadata": {},
   "outputs": [],
   "source": [
    "def preprocessing_resource(exist_resources) -> list:\n",
    "    exist_resources = list(itertools.chain(*exist_resources))\n",
    "    exist_resources = [item for item in exist_resources if item != 0]\n",
    "    exist_resources = dict(zip(range(1, len(exist_resources) + 1), exist_resources))\n",
    "    json.dumps(exist_resources)\n",
    "    \n",
    "    return exist_resources"
   ]
  },
  {
   "cell_type": "code",
   "execution_count": 5,
   "id": "d5915a56",
   "metadata": {},
   "outputs": [],
   "source": [
    "def convert_dataframe(resource_json) -> dict:\n",
    "    df_resource = pd.DataFrame.from_dict(resource_json, orient='index', columns=['Resource_Type','Resource_ID'])\n",
    "    df_resource['date']=pd.datetime.now().date()\n",
    "    df_resource.explode('ResourceID')\n",
    "    \n",
    "    return df_resource"
   ]
  },
  {
   "cell_type": "code",
   "execution_count": 38,
   "id": "93b024ae",
   "metadata": {},
   "outputs": [
    {
     "ename": "SyntaxError",
     "evalue": "unterminated string literal (detected at line 11) (3416846480.py, line 11)",
     "output_type": "error",
     "traceback": [
      "\u001b[0;36m  Cell \u001b[0;32mIn[38], line 11\u001b[0;36m\u001b[0m\n\u001b[0;31m    df_resource.to_csv('C:\\Users\\changhyun\\Desktop\\DKMS_Fine_Resource\\' + f'{date}' + \"_resource_list.csv\")\u001b[0m\n\u001b[0m                                                                                  ^\u001b[0m\n\u001b[0;31mSyntaxError\u001b[0m\u001b[0;31m:\u001b[0m unterminated string literal (detected at line 11)\n"
     ]
    }
   ],
   "source": [
    "if __name__ == '__main__':    \n",
    "    file = 'C:\\Users\\changhyun\\Desktop\\DKMS_Fine_Resource\\'\n",
    "    \n",
    "    resources = \"AWS::EC2::CustomerGateway | AWS::EC2::EIP | AWS::EC2::Host | AWS::EC2::Instance | AWS::EC2::InternetGateway | AWS::EC2::NetworkAcl | AWS::EC2::NetworkInterface | AWS::EC2::RouteTable | AWS::EC2::SecurityGroup | AWS::EC2::Subnet | AWS::CloudTrail::Trail | AWS::EC2::Volume | AWS::EC2::VPC | AWS::EC2::VPNConnection | AWS::EC2::VPNGateway | AWS::EC2::RegisteredHAInstance | AWS::EC2::NatGateway | AWS::EC2::EgressOnlyInternetGateway | AWS::EC2::VPCEndpoint | AWS::EC2::VPCEndpointService | AWS::EC2::VPCPeeringConnection | AWS::IAM::Group | AWS::IAM::Policy | AWS::IAM::Role | AWS::IAM::User |  AWS::ElasticLoadBalancingV2::LoadBalancer | AWS::ACM::Certificate | AWS::RDS::DBInstance | AWS::RDS::DBSubnetGroup | AWS::RDS::DBSecurityGroup | AWS::RDS::DBSnapshot | AWS::RDS::DBCluster | AWS::RDS::DBClusterSnapshot | AWS::RDS::EventSubscription | AWS::S3::Bucket | AWS::S3::AccountPublicAccessBlock | AWS::ElasticLoadBalancing::LoadBalancer | AWS::AutoScaling::ScalingPolicy | AWS::AutoScaling::ScheduledAction | AWS::DynamoDB::Table | AWS::Lambda::Function | AWS::NetworkFirewall::Firewall | AWS::NetworkFirewall::FirewallPolicy | AWS::NetworkFirewall::RuleGroup | AWS::ECR::Repository | AWS::EKS::Cluster | AWS::Route53::HostedZone\"\n",
    "    resource_lists = resources.split(\" | \")\n",
    "    exist_resources = [] \n",
    "    multiprocessing(resource_lists)\n",
    "    resource_json = preprocessing_resource(exist_resources)\n",
    "    df_resource = convert_dataframe(resource_json)\n",
    "    date = datetime.today().strftime(\"%Y%m%d\")\n",
    "    df_resource.to_csv( + f'{date}' + \"_resource_list.csv\")   "
   ]
  },
  {
   "cell_type": "code",
   "execution_count": 30,
   "id": "a618acd1",
   "metadata": {},
   "outputs": [
    {
     "data": {
      "text/plain": [
       "dict"
      ]
     },
     "execution_count": 30,
     "metadata": {},
     "output_type": "execute_result"
    }
   ],
   "source": [
    "type(resource_json)"
   ]
  },
  {
   "cell_type": "code",
   "execution_count": 21,
   "id": "37c1842c",
   "metadata": {},
   "outputs": [
    {
     "ename": "AttributeError",
     "evalue": "'str' object has no attribute 'values'",
     "output_type": "error",
     "traceback": [
      "\u001b[0;31m---------------------------------------------------------------------------\u001b[0m",
      "\u001b[0;31mAttributeError\u001b[0m                            Traceback (most recent call last)",
      "Cell \u001b[0;32mIn[21], line 1\u001b[0m\n\u001b[0;32m----> 1\u001b[0m df_resource \u001b[38;5;241m=\u001b[39m \u001b[43mpd\u001b[49m\u001b[38;5;241;43m.\u001b[39;49m\u001b[43mDataFrame\u001b[49m\u001b[38;5;241;43m.\u001b[39;49m\u001b[43mfrom_dict\u001b[49m\u001b[43m(\u001b[49m\u001b[43mresource_json\u001b[49m\u001b[43m,\u001b[49m\u001b[43m \u001b[49m\u001b[43morient\u001b[49m\u001b[38;5;241;43m=\u001b[39;49m\u001b[38;5;124;43m'\u001b[39;49m\u001b[38;5;124;43mindex\u001b[39;49m\u001b[38;5;124;43m'\u001b[39;49m\u001b[43m,\u001b[49m\u001b[43m \u001b[49m\u001b[43mcolumns\u001b[49m\u001b[38;5;241;43m=\u001b[39;49m\u001b[43m[\u001b[49m\u001b[38;5;124;43m'\u001b[39;49m\u001b[38;5;124;43mResource_Type\u001b[39;49m\u001b[38;5;124;43m'\u001b[39;49m\u001b[43m,\u001b[49m\u001b[38;5;124;43m'\u001b[39;49m\u001b[38;5;124;43mResource_ID\u001b[39;49m\u001b[38;5;124;43m'\u001b[39;49m\u001b[43m]\u001b[49m\u001b[43m)\u001b[49m\n",
      "File \u001b[0;32m~/.local/lib/python3.10/site-packages/pandas/core/frame.py:1747\u001b[0m, in \u001b[0;36mDataFrame.from_dict\u001b[0;34m(cls, data, orient, dtype, columns)\u001b[0m\n\u001b[1;32m   1744\u001b[0m \u001b[38;5;28;01mif\u001b[39;00m orient \u001b[38;5;241m==\u001b[39m \u001b[38;5;124m\"\u001b[39m\u001b[38;5;124mindex\u001b[39m\u001b[38;5;124m\"\u001b[39m:\n\u001b[1;32m   1745\u001b[0m     \u001b[38;5;28;01mif\u001b[39;00m \u001b[38;5;28mlen\u001b[39m(data) \u001b[38;5;241m>\u001b[39m \u001b[38;5;241m0\u001b[39m:\n\u001b[1;32m   1746\u001b[0m         \u001b[38;5;66;03m# TODO speed up Series case\u001b[39;00m\n\u001b[0;32m-> 1747\u001b[0m         \u001b[38;5;28;01mif\u001b[39;00m \u001b[38;5;28misinstance\u001b[39m(\u001b[38;5;28mlist\u001b[39m(\u001b[43mdata\u001b[49m\u001b[38;5;241;43m.\u001b[39;49m\u001b[43mvalues\u001b[49m())[\u001b[38;5;241m0\u001b[39m], (Series, \u001b[38;5;28mdict\u001b[39m)):\n\u001b[1;32m   1748\u001b[0m             data \u001b[38;5;241m=\u001b[39m _from_nested_dict(data)\n\u001b[1;32m   1749\u001b[0m         \u001b[38;5;28;01melse\u001b[39;00m:\n",
      "\u001b[0;31mAttributeError\u001b[0m: 'str' object has no attribute 'values'"
     ]
    }
   ],
   "source": [
    "df_resource = pd.DataFrame.from_dict(resource_json, orient='index', columns=['Resource_Type','Resource_ID'])"
   ]
  },
  {
   "cell_type": "code",
   "execution_count": null,
   "id": "f48fa786",
   "metadata": {},
   "outputs": [],
   "source": []
  }
 ],
 "metadata": {
  "kernelspec": {
   "display_name": "Python 3 (ipykernel)",
   "language": "python",
   "name": "python3"
  },
  "language_info": {
   "codemirror_mode": {
    "name": "ipython",
    "version": 3
   },
   "file_extension": ".py",
   "mimetype": "text/x-python",
   "name": "python",
   "nbconvert_exporter": "python",
   "pygments_lexer": "ipython3",
   "version": "3.10.6"
  }
 },
 "nbformat": 4,
 "nbformat_minor": 5
}
